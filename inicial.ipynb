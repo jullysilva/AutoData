{
 "cells": [
  {
   "cell_type": "markdown",
   "metadata": {},
   "source": [
    "# Python Insights - Analisando Dados com Python\n",
    "\n",
    "### Case - Cancelamento de Clientes\n",
    "\n",
    "Você foi contratado por uma empresa com mais de 800 mil clientes para um projeto de Dados. Recentemente a empresa percebeu que da sua base total de clientes, a maioria são clientes inativos, ou seja, que já cancelaram o serviço.\n",
    "\n",
    "Precisando melhorar seus resultados ela quer conseguir entender os principais motivos desses cancelamentos e quais as ações mais eficientes para reduzir esse número.\n",
    "\n",
    "Base de dados e arquivos: https://drive.google.com/drive/folders/1uDesZePdkhiraJmiyeZ-w5tfc8XsNYFZ?usp=drive_link"
   ]
  },
  {
   "cell_type": "code",
   "execution_count": null,
   "metadata": {},
   "outputs": [],
   "source": [
    "!pip install pandas openpyxl numpy nbformat plotly ipkernel tabulate\n",
    "\n",
    "\n",
    "import pandas as pd\n",
    "import plotly.express as px\n",
    "\n",
    "tabela = pd.read_csv(\"cancelamentos.csv\")\n",
    "\n",
    "tabela = tabela.drop(columns=\"CustomerID\")\n",
    "\n",
    "display(tabela)"
   ]
  },
  {
   "cell_type": "code",
   "execution_count": null,
   "metadata": {},
   "outputs": [],
   "source": [
    "tabela = tabela.dropna()\n",
    "\n",
    "display(tabela.info())\n"
   ]
  },
  {
   "cell_type": "code",
   "execution_count": null,
   "metadata": {},
   "outputs": [],
   "source": [
    "# ANÁLISE INICIAL\n",
    "# Quantos clientes cancelaram, qual a % de clientes\n",
    "\n",
    "counts = tabela[\"cancelou\"].value_counts(normalize=True)\n",
    "display(counts)\n",
    "\n",
    "display(tabela[\"cancelou\"].value_counts(normalize=True).map(\"{:.1%}\".format))"
   ]
  },
  {
   "cell_type": "code",
   "execution_count": null,
   "metadata": {},
   "outputs": [],
   "source": [
    "# A IDADE TEM INFLUÊNCIA NO CANCELAMENTO?\n",
    "for coluna in tabela.columns:\n",
    "    \n",
    "    graficos = px.histogram(tabela, x=coluna, color=\"cancelou\", text_auto=True)\n",
    "\n",
    "    graficos.show()"
   ]
  },
  {
   "cell_type": "markdown",
   "metadata": {},
   "source": [
    "### clinetes que ligaram mais de 4x pro callcenter cancelam\n",
    "    - vamos criar um alerta quando o cliente ligar na 3º vez pro callcenter\n",
    "\n",
    "### todos os clientes do contrato mensal cancelaram\n",
    "    - vamos dar desconto nos outros contratos\n",
    "    \n",
    "### todos os clientes que atrasaram mais de 20 dia, cancelaram\n",
    "    - ligar um alerta pro time de cobrança quando cliente bater 10 dias de atraso\n",
    "    \n",
    "### se eu resolver esses 3 problemas, como fica a taxa de cancelamento"
   ]
  },
  {
   "cell_type": "code",
   "execution_count": null,
   "metadata": {},
   "outputs": [],
   "source": [
    "condicao = tabela[\"ligacoes_callcenter\"] <= 4\n",
    "tabela = tabela[condicao]\n",
    "\n",
    "display(tabela[\"cancelou\"].value_counts(normalize=True).map(\"{:.1%}\".format))"
   ]
  },
  {
   "cell_type": "code",
   "execution_count": null,
   "metadata": {},
   "outputs": [],
   "source": [
    "condicao = tabela[\"dias_atraso\"] <= 20\n",
    "tabela = tabela[condicao]\n",
    "\n",
    "\n",
    "display(tabela[\"cancelou\"].value_counts(normalize=True))\n",
    "\n",
    "display(tabela[\"cancelou\"].value_counts(normalize=True).map(\"{:.1%}\".format))"
   ]
  },
  {
   "cell_type": "code",
   "execution_count": null,
   "metadata": {},
   "outputs": [],
   "source": [
    "condicao = tabela[\"duracao_contrato\"] != \"Monthly\"\n",
    "tabela = tabela[condicao]\n",
    "\n",
    "\n",
    "display(tabela[\"cancelou\"].value_counts(normalize=True))\n",
    "\n",
    "display(tabela[\"cancelou\"].value_counts(normalize=True).map(\"{:.1%}\".format))"
   ]
  },
  {
   "cell_type": "markdown",
   "metadata": {},
   "source": [
    "### Se eu resolver esses 3 problemas, como fica a taxa de cancelamento"
   ]
  },
  {
   "cell_type": "code",
   "execution_count": null,
   "metadata": {},
   "outputs": [],
   "source": [
    "# Aplicando filtro\n",
    "from tabulate import tabulate\n",
    "\n",
    "\n",
    "condicao = (tabela[\"ligacoes_callcenter\"] <= 4) + (tabela[\"dias_atraso\"] <= 20) + (tabela[\"duracao_contrato\"] != \"Monthly\")\n",
    "nova_tabela = tabela[condicao]\n",
    "\n",
    "# Percentual depois\n",
    "novos_counts = nova_tabela[\"cancelou\"].value_counts(normalize=True)\n",
    "\n",
    "\n",
    "tabela_resultados = [\n",
    "    [\"Status\", \"Antes (%)\", \"Depois (%)\", \"Diferença (%)\"]\n",
    "]\n",
    "for status in sorted(counts.index):\n",
    "    antes = counts[status] * 100\n",
    "    depois = novos_counts[status] * 100\n",
    "    diff = depois - antes\n",
    "    tabela_resultados.append([\n",
    "        f\"{status:.1f}\", f\"{antes:.1f}%\", f\"{depois:.1f}%\", f\"{diff:+.1f}%\"\n",
    "    ])\n",
    "\n",
    "print(\"A direferença da taxa após resolver os problemas identificados que era motivo de cancelamento, a diferença foi de:\")\n",
    "print(tabulate(tabela_resultados, headers=\"firstrow\", tablefmt=\"grid\"))\n"
   ]
  }
 ],
 "metadata": {
  "kernelspec": {
   "display_name": "Python 3",
   "language": "python",
   "name": "python3"
  },
  "language_info": {
   "codemirror_mode": {
    "name": "ipython",
    "version": 3
   },
   "file_extension": ".py",
   "mimetype": "text/x-python",
   "name": "python",
   "nbconvert_exporter": "python",
   "pygments_lexer": "ipython3",
   "version": "3.11.3"
  },
  "orig_nbformat": 4
 },
 "nbformat": 4,
 "nbformat_minor": 2
}
